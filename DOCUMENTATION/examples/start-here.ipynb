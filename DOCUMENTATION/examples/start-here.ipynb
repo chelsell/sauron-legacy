{
 "cells": [
  {
   "cell_type": "markdown",
   "metadata": {},
   "source": [
    "First, run the following.\n",
    "It will replace the cell with a template (shown in the next cell).  \n",
    "You can modify the template in `$HOME/.chemfish/jupyter_template.txt`.\n",
    "\n",
    "```python\n",
    "from chemfish.jupyter import *\n",
    "%chemfish\n",
    "```"
   ]
  },
  {
   "cell_type": "code",
   "execution_count": 11,
   "metadata": {},
   "outputs": [
    {
     "data": {
      "text/markdown": [
       "\n",
       "## <Name me!>\n",
       "**Author: Douglas** (2020-09-09, Chemfish version 0.1.0)\n"
      ],
      "text/plain": [
       "<IPython.core.display.Markdown object>"
      ]
     },
     "metadata": {},
     "output_type": "display_data"
    }
   ],
   "source": [
    "%matplotlib widget\n",
    "from chemfish.jupyter import *\n",
    "today = datetime(2020, 9, 9, 19, 54, 46)\n",
    "quick = Quicks.pointgrey(as_of=today)\n",
    "\n",
    "J.md('''\n",
    "## <Name me!>\n",
    "**Author: Douglas** (2020-09-09, Chemfish version 0.1.0)\n",
    "''')\n"
   ]
  },
  {
   "cell_type": "markdown",
   "metadata": {},
   "source": [
    "Here's what's going on:\n",
    "\n",
    "- `%matplotlib widget` is a good interactive matplotlib backend\n",
    "- `from chemfish.jupyter import *` imports a bunch ChemFish code into the namespace\n",
    "- `today = ...`  can be useful to reference as the date/time your data is tied to\n",
    "- `quick = Quicks.new(as_of=today)` creates a `Quick` with common analyses for the most-recent data generation\n",
    "- `J.md` just renders Markdown -- move the text to a new cell if preferred\n",
    "\n",
    "As for the output:\n",
    "- The `Severity key ...` line is just for reference -- there's nothing wrong"
   ]
  },
  {
   "cell_type": "markdown",
   "metadata": {},
   "source": [
    "The two main entry points are `Lookups` and `quick`:\n",
    "\n",
    "#### Lookups\n",
    "`Lookups` contains static functions for searching the database.\n",
    "They're only meant for lookups -- their output should never be referenced in code.\n",
    "Each function, like `Lookups.projects`, can accept:\n",
    "- a single ID or name (or another `UNIQUE` field), like `22` or `\"testproject\"`\n",
    "- a varargs list of those (ex `22, \"testproject\"`)\n",
    "- a varargs list of peewee expressions (see http://docs.peewee-orm.com/en/latest/);\n",
    "  ex: `Users.first_name=\"John\"` or `Experiments.created < datetime(2020, 1)`\n",
    "\n",
    "#### quick\n",
    "- `quick` contains functions for standard analyses and plots with sensible defaults.\n",
    "  Each instance is tied to a specific datetime applied automatically to queries,\n",
    "  and a data \"generation\" that you can ignore for modern data.\n",
    "  The constructor for `Quick` has a LOT of arguments.\n"
   ]
  },
  {
   "cell_type": "code",
   "execution_count": 6,
   "metadata": {},
   "outputs": [
    {
     "data": {
      "text/html": [
       "<strong>Lookup: 3 rows × 5 columns</strong>\n",
       "<div>\n",
       "<style scoped>\n",
       "    .dataframe tbody tr th:only-of-type {\n",
       "        vertical-align: middle;\n",
       "    }\n",
       "\n",
       "    .dataframe tbody tr th {\n",
       "        vertical-align: top;\n",
       "    }\n",
       "\n",
       "    .dataframe thead th {\n",
       "        text-align: right;\n",
       "    }\n",
       "</style>\n",
       "<table border=\"1\" class=\"dataframe\">\n",
       "  <thead>\n",
       "    <tr style=\"text-align: right;\">\n",
       "      <th></th>\n",
       "      <th>name</th>\n",
       "      <th>description</th>\n",
       "      <th>creator</th>\n",
       "      <th>active</th>\n",
       "      <th>when_inserted</th>\n",
       "    </tr>\n",
       "    <tr>\n",
       "      <th>id</th>\n",
       "      <th></th>\n",
       "      <th></th>\n",
       "      <th></th>\n",
       "      <th></th>\n",
       "      <th></th>\n",
       "    </tr>\n",
       "  </thead>\n",
       "  <tbody>\n",
       "    <tr>\n",
       "      <th>756</th>\n",
       "      <td>hardware :: misc qc</td>\n",
       "      <td>None</td>\n",
       "      <td>douglas</td>\n",
       "      <td>False</td>\n",
       "      <td>2018-11-15 18:12:12</td>\n",
       "    </tr>\n",
       "    <tr>\n",
       "      <th>773</th>\n",
       "      <td>reference :: qc dose-response</td>\n",
       "      <td>None</td>\n",
       "      <td>chris</td>\n",
       "      <td>True</td>\n",
       "      <td>2019-04-05 15:05:09</td>\n",
       "    </tr>\n",
       "    <tr>\n",
       "      <th>783</th>\n",
       "      <td>reference :: qc :: runs</td>\n",
       "      <td>QC single concentration test for paper</td>\n",
       "      <td>douglas</td>\n",
       "      <td>True</td>\n",
       "      <td>2019-07-29 13:36:36</td>\n",
       "    </tr>\n",
       "  </tbody>\n",
       "</table>\n",
       "</div>"
      ],
      "text/plain": [
       "                              name                             description  \\\n",
       "id                                                                           \n",
       "756            hardware :: misc qc                                    None   \n",
       "773  reference :: qc dose-response                                    None   \n",
       "783        reference :: qc :: runs  QC single concentration test for paper   \n",
       "\n",
       "     creator  active       when_inserted  \n",
       "id                                        \n",
       "756  douglas   False 2018-11-15 18:12:12  \n",
       "773    chris    True 2019-04-05 15:05:09  \n",
       "783  douglas    True 2019-07-29 13:36:36  "
      ]
     },
     "execution_count": 6,
     "metadata": {},
     "output_type": "execute_result"
    }
   ],
   "source": [
    "Lookups.projects(Projects.name % \"%qc%\")  # a LIKE expression"
   ]
  },
  {
   "cell_type": "code",
   "execution_count": 7,
   "metadata": {},
   "outputs": [
    {
     "data": {
      "text/html": [
       "<strong>Lookup: 3 rows × 16 columns</strong>\n",
       "<div>\n",
       "<style scoped>\n",
       "    .dataframe tbody tr th:only-of-type {\n",
       "        vertical-align: middle;\n",
       "    }\n",
       "\n",
       "    .dataframe tbody tr th {\n",
       "        vertical-align: top;\n",
       "    }\n",
       "\n",
       "    .dataframe thead th {\n",
       "        text-align: right;\n",
       "    }\n",
       "</style>\n",
       "<table border=\"1\" class=\"dataframe\">\n",
       "  <thead>\n",
       "    <tr style=\"text-align: right;\">\n",
       "      <th></th>\n",
       "      <th>name</th>\n",
       "      <th>description</th>\n",
       "      <th>creator</th>\n",
       "      <th>active</th>\n",
       "      <th>project</th>\n",
       "      <th>project_id</th>\n",
       "      <th>battery</th>\n",
       "      <th>template_plate</th>\n",
       "      <th>transfer_plate</th>\n",
       "      <th>when_inserted</th>\n",
       "      <th>n_runs</th>\n",
       "      <th>first_run</th>\n",
       "      <th>last_run</th>\n",
       "      <th>generations</th>\n",
       "      <th>saurons</th>\n",
       "      <th>configs</th>\n",
       "    </tr>\n",
       "    <tr>\n",
       "      <th>id</th>\n",
       "      <th></th>\n",
       "      <th></th>\n",
       "      <th></th>\n",
       "      <th></th>\n",
       "      <th></th>\n",
       "      <th></th>\n",
       "      <th></th>\n",
       "      <th></th>\n",
       "      <th></th>\n",
       "      <th></th>\n",
       "      <th></th>\n",
       "      <th></th>\n",
       "      <th></th>\n",
       "      <th></th>\n",
       "      <th></th>\n",
       "      <th></th>\n",
       "    </tr>\n",
       "  </thead>\n",
       "  <tbody>\n",
       "    <tr>\n",
       "      <th>1578</th>\n",
       "      <td>reference :: qc-opt :: 2nd</td>\n",
       "      <td>Second set of plates of single computationally...</td>\n",
       "      <td>jack</td>\n",
       "      <td>False</td>\n",
       "      <td>reference :: qc :: runs</td>\n",
       "      <td>783</td>\n",
       "      <td>standard :: flames</td>\n",
       "      <td>soft_tap_consistency</td>\n",
       "      <td>None</td>\n",
       "      <td>2019-04-23 13:24:14</td>\n",
       "      <td>13</td>\n",
       "      <td>2019-05-07 15:10:06</td>\n",
       "      <td>2019-06-19 17:34:49</td>\n",
       "      <td>(POINTGREY)</td>\n",
       "      <td>(Thor)</td>\n",
       "      <td>(90:20190307)</td>\n",
       "    </tr>\n",
       "    <tr>\n",
       "      <th>1670</th>\n",
       "      <td>reference :: qc-opt :: 1st</td>\n",
       "      <td>First set of 3 plates of single computationall...</td>\n",
       "      <td>jack</td>\n",
       "      <td>False</td>\n",
       "      <td>reference :: qc :: runs</td>\n",
       "      <td>783</td>\n",
       "      <td>standard :: flames</td>\n",
       "      <td>None</td>\n",
       "      <td>None</td>\n",
       "      <td>2019-07-29 13:38:03</td>\n",
       "      <td>3</td>\n",
       "      <td>2019-04-23 14:28:09</td>\n",
       "      <td>2019-04-23 15:50:58</td>\n",
       "      <td>(POINTGREY)</td>\n",
       "      <td>(Thor)</td>\n",
       "      <td>(90:20190307)</td>\n",
       "    </tr>\n",
       "    <tr>\n",
       "      <th>1774</th>\n",
       "      <td>reference :: qc :: blank</td>\n",
       "      <td>None</td>\n",
       "      <td>douglas</td>\n",
       "      <td>True</td>\n",
       "      <td>reference :: qc :: runs</td>\n",
       "      <td>783</td>\n",
       "      <td>standard :: flames</td>\n",
       "      <td>untreated</td>\n",
       "      <td>None</td>\n",
       "      <td>2019-09-23 14:04:50</td>\n",
       "      <td>2</td>\n",
       "      <td>2019-09-23 16:14:57</td>\n",
       "      <td>2019-09-23 16:46:16</td>\n",
       "      <td>(POINTGREY)</td>\n",
       "      <td>(Thor)</td>\n",
       "      <td>(113:20190923)</td>\n",
       "    </tr>\n",
       "  </tbody>\n",
       "</table>\n",
       "</div>"
      ],
      "text/plain": [
       "                            name  \\\n",
       "id                                 \n",
       "1578  reference :: qc-opt :: 2nd   \n",
       "1670  reference :: qc-opt :: 1st   \n",
       "1774    reference :: qc :: blank   \n",
       "\n",
       "                                            description  creator  active  \\\n",
       "id                                                                         \n",
       "1578  Second set of plates of single computationally...     jack   False   \n",
       "1670  First set of 3 plates of single computationall...     jack   False   \n",
       "1774                                               None  douglas    True   \n",
       "\n",
       "                      project  project_id             battery  \\\n",
       "id                                                              \n",
       "1578  reference :: qc :: runs         783  standard :: flames   \n",
       "1670  reference :: qc :: runs         783  standard :: flames   \n",
       "1774  reference :: qc :: runs         783  standard :: flames   \n",
       "\n",
       "            template_plate transfer_plate       when_inserted  n_runs  \\\n",
       "id                                                                      \n",
       "1578  soft_tap_consistency           None 2019-04-23 13:24:14      13   \n",
       "1670                  None           None 2019-07-29 13:38:03       3   \n",
       "1774             untreated           None 2019-09-23 14:04:50       2   \n",
       "\n",
       "               first_run            last_run  generations saurons  \\\n",
       "id                                                                  \n",
       "1578 2019-05-07 15:10:06 2019-06-19 17:34:49  (POINTGREY)  (Thor)   \n",
       "1670 2019-04-23 14:28:09 2019-04-23 15:50:58  (POINTGREY)  (Thor)   \n",
       "1774 2019-09-23 16:14:57 2019-09-23 16:46:16  (POINTGREY)  (Thor)   \n",
       "\n",
       "             configs  \n",
       "id                    \n",
       "1578   (90:20190307)  \n",
       "1670   (90:20190307)  \n",
       "1774  (113:20190923)  "
      ]
     },
     "execution_count": 7,
     "metadata": {},
     "output_type": "execute_result"
    }
   ],
   "source": [
    "Lookups.experiments(Projects.id == 783)"
   ]
  },
  {
   "cell_type": "code",
   "execution_count": 9,
   "metadata": {},
   "outputs": [
    {
     "data": {
      "text/html": [
       "<strong>Lookup: 3 rows × 21 columns</strong>\n",
       "<div>\n",
       "<style scoped>\n",
       "    .dataframe tbody tr th:only-of-type {\n",
       "        vertical-align: middle;\n",
       "    }\n",
       "\n",
       "    .dataframe tbody tr th {\n",
       "        vertical-align: top;\n",
       "    }\n",
       "\n",
       "    .dataframe thead th {\n",
       "        text-align: right;\n",
       "    }\n",
       "</style>\n",
       "<table border=\"1\" class=\"dataframe\">\n",
       "  <thead>\n",
       "    <tr style=\"text-align: right;\">\n",
       "      <th></th>\n",
       "      <th>name</th>\n",
       "      <th>tag</th>\n",
       "      <th>submission</th>\n",
       "      <th>description</th>\n",
       "      <th>plate</th>\n",
       "      <th>user_run</th>\n",
       "      <th>when_run</th>\n",
       "      <th>when_dosed</th>\n",
       "      <th>when_plated</th>\n",
       "      <th>acc_sec</th>\n",
       "      <th>...</th>\n",
       "      <th>inc_sec</th>\n",
       "      <th>config</th>\n",
       "      <th>sauron</th>\n",
       "      <th>exp</th>\n",
       "      <th>project</th>\n",
       "      <th>battery</th>\n",
       "      <th>length</th>\n",
       "      <th>fps</th>\n",
       "      <th>generation</th>\n",
       "      <th>when_inserted</th>\n",
       "    </tr>\n",
       "    <tr>\n",
       "      <th>id</th>\n",
       "      <th></th>\n",
       "      <th></th>\n",
       "      <th></th>\n",
       "      <th></th>\n",
       "      <th></th>\n",
       "      <th></th>\n",
       "      <th></th>\n",
       "      <th></th>\n",
       "      <th></th>\n",
       "      <th></th>\n",
       "      <th></th>\n",
       "      <th></th>\n",
       "      <th></th>\n",
       "      <th></th>\n",
       "      <th></th>\n",
       "      <th></th>\n",
       "      <th></th>\n",
       "      <th></th>\n",
       "      <th></th>\n",
       "      <th></th>\n",
       "      <th></th>\n",
       "    </tr>\n",
       "  </thead>\n",
       "  <tbody>\n",
       "    <tr>\n",
       "      <th>7106</th>\n",
       "      <td>142809-r7106-uJT-S10-0-142809</td>\n",
       "      <td>20190423.142809.S10</td>\n",
       "      <td>3493d39eab5a</td>\n",
       "      <td>optisep with flames plate 1</td>\n",
       "      <td>6476</td>\n",
       "      <td>jack</td>\n",
       "      <td>2019-04-23 14:28:09</td>\n",
       "      <td>2019-04-23 13:15:00</td>\n",
       "      <td>2019-04-23 11:03:00</td>\n",
       "      <td>0 days 00:05:00</td>\n",
       "      <td>...</td>\n",
       "      <td>7920.0</td>\n",
       "      <td>90</td>\n",
       "      <td>Thor</td>\n",
       "      <td>reference :: qc-opt :: 1st</td>\n",
       "      <td>783</td>\n",
       "      <td>standard :: flames</td>\n",
       "      <td>1020000</td>\n",
       "      <td>100</td>\n",
       "      <td>pointgrey</td>\n",
       "      <td>2019-04-23 14:29:59</td>\n",
       "    </tr>\n",
       "    <tr>\n",
       "      <th>7107</th>\n",
       "      <td>151904-r7107-uJT-S10-0-151904</td>\n",
       "      <td>20190423.151904.S10</td>\n",
       "      <td>3ebbb658fa1a</td>\n",
       "      <td>optisep with flames plate 2</td>\n",
       "      <td>6477</td>\n",
       "      <td>jack</td>\n",
       "      <td>2019-04-23 15:19:04</td>\n",
       "      <td>2019-04-23 14:16:00</td>\n",
       "      <td>2019-04-23 12:59:00</td>\n",
       "      <td>0 days 00:05:00</td>\n",
       "      <td>...</td>\n",
       "      <td>4620.0</td>\n",
       "      <td>90</td>\n",
       "      <td>Thor</td>\n",
       "      <td>reference :: qc-opt :: 1st</td>\n",
       "      <td>783</td>\n",
       "      <td>standard :: flames</td>\n",
       "      <td>1020000</td>\n",
       "      <td>100</td>\n",
       "      <td>pointgrey</td>\n",
       "      <td>2019-04-23 15:26:44</td>\n",
       "    </tr>\n",
       "    <tr>\n",
       "      <th>7112</th>\n",
       "      <td>155058-r7112-uJT-S10-0-155058</td>\n",
       "      <td>20190423.155058.S10</td>\n",
       "      <td>f77eb325fa0b</td>\n",
       "      <td>optisep with flames plate 3</td>\n",
       "      <td>6482</td>\n",
       "      <td>jack</td>\n",
       "      <td>2019-04-23 15:50:58</td>\n",
       "      <td>2019-04-23 14:57:00</td>\n",
       "      <td>2019-04-23 13:34:00</td>\n",
       "      <td>0 days 00:08:00</td>\n",
       "      <td>...</td>\n",
       "      <td>4980.0</td>\n",
       "      <td>90</td>\n",
       "      <td>Thor</td>\n",
       "      <td>reference :: qc-opt :: 1st</td>\n",
       "      <td>783</td>\n",
       "      <td>standard :: flames</td>\n",
       "      <td>1020000</td>\n",
       "      <td>100</td>\n",
       "      <td>pointgrey</td>\n",
       "      <td>2019-04-23 18:56:11</td>\n",
       "    </tr>\n",
       "  </tbody>\n",
       "</table>\n",
       "<p>3 rows × 21 columns</p>\n",
       "</div>"
      ],
      "text/plain": [
       "                               name                  tag    submission  \\\n",
       "id                                                                       \n",
       "7106  142809-r7106-uJT-S10-0-142809  20190423.142809.S10  3493d39eab5a   \n",
       "7107  151904-r7107-uJT-S10-0-151904  20190423.151904.S10  3ebbb658fa1a   \n",
       "7112  155058-r7112-uJT-S10-0-155058  20190423.155058.S10  f77eb325fa0b   \n",
       "\n",
       "                      description  plate user_run            when_run  \\\n",
       "id                                                                      \n",
       "7106  optisep with flames plate 1   6476     jack 2019-04-23 14:28:09   \n",
       "7107  optisep with flames plate 2   6477     jack 2019-04-23 15:19:04   \n",
       "7112  optisep with flames plate 3   6482     jack 2019-04-23 15:50:58   \n",
       "\n",
       "              when_dosed         when_plated         acc_sec  ...  inc_sec  \\\n",
       "id                                                            ...            \n",
       "7106 2019-04-23 13:15:00 2019-04-23 11:03:00 0 days 00:05:00  ...   7920.0   \n",
       "7107 2019-04-23 14:16:00 2019-04-23 12:59:00 0 days 00:05:00  ...   4620.0   \n",
       "7112 2019-04-23 14:57:00 2019-04-23 13:34:00 0 days 00:08:00  ...   4980.0   \n",
       "\n",
       "      config  sauron                         exp project             battery  \\\n",
       "id                                                                             \n",
       "7106      90    Thor  reference :: qc-opt :: 1st     783  standard :: flames   \n",
       "7107      90    Thor  reference :: qc-opt :: 1st     783  standard :: flames   \n",
       "7112      90    Thor  reference :: qc-opt :: 1st     783  standard :: flames   \n",
       "\n",
       "       length  fps  generation       when_inserted  \n",
       "id                                                  \n",
       "7106  1020000  100   pointgrey 2019-04-23 14:29:59  \n",
       "7107  1020000  100   pointgrey 2019-04-23 15:26:44  \n",
       "7112  1020000  100   pointgrey 2019-04-23 18:56:11  \n",
       "\n",
       "[3 rows x 21 columns]"
      ]
     },
     "execution_count": 9,
     "metadata": {},
     "output_type": "execute_result"
    }
   ],
   "source": [
    "Lookups.runs(Experiments.id == 1670)"
   ]
  },
  {
   "cell_type": "markdown",
   "metadata": {},
   "source": [
    "#### Getting a WellFrame\n",
    "\n",
    "We'll work with run 7112.\n",
    "We can fetch feature and metadata for the run in the form of a `WellFrame`.  \n",
    "The feature used is specified in `quick.feature`; by default it's \"cd(10)[⌇]\",\n",
    "which is a timestamp-interpolated count of pixels that changed by an intensity of >= 10.\n",
    "\n",
    "Use `quick.df` to get a `WellFrame`."
   ]
  },
  {
   "cell_type": "code",
   "execution_count": 12,
   "metadata": {},
   "outputs": [
    {
     "data": {
      "text/plain": [
       "Quick(cd(10)[⌇] @ 2020-09-09 19:54)"
      ]
     },
     "execution_count": 12,
     "metadata": {},
     "output_type": "execute_result"
    }
   ],
   "source": [
    "df = quick.df(7112)"
   ]
  },
  {
   "cell_type": "markdown",
   "metadata": {},
   "source": [
    "As with `Lookups`, you can use various arguments.\n",
    "You can provide a list of run IDs or tags, for example.  \n",
    "You can also provide free queries like `Experiments.id == 1670`.\n",
    "\n",
    "Every downloaded run/feature combination will be cached locally.\n",
    "These can be 100 MB each, so you can delete them periodically.  \n",
    "This cache is stored under `~/.chemfish/cache`.\n",
    "You can also use `quick.delete` to delete these data.\n",
    "\n",
    "A `WellFrame` is actually a subclass of `pandas.DataFrame` using [typed-dfs](https://github.com/dmyersturnbull/typed-dfs).  \n",
    "(More correctly, it's a subclass of `TypedDf`.)  \n",
    "\n",
    "The metadata is stored in the index (it's a multi-index DataFrame),\n",
    "and the features are stored in columns 0, 1, ... (using actual integers; i.e. `df[1]`).\n",
    "A number of metadata columns are required for a valid WellFrame.\n",
    "\n",
    "Unlike a normal DataFrame, you can access metadata columns (index names) via `[]`; ex: `df[\"name\"]`\n",
    "You can convert to a simple \"untyped\" DataFrame using `df.untyped()`.  \n",
    "(It's very rarely needed, but you can get a pure DataFrame using `df.vanilla()`.)\n",
    "\n",
    "Most regular DataFrame functions still work. Most that ordinarily return another `DataFrame` will now return\n",
    "a new `WellFrame`.  \n",
    "If you're doing an operation that won't return a proper `WellFrame`, you can call `.untyped()` first:\n",
    "`df.untyped().applymap(my_breaking_function)`.\n",
    "\n",
    "Note that calling `.reset_index()` will still return a `WellFrame`.\n",
    "This is because calling `WellFrame.convert(df.reset_index()` (equivalently `WellFrame.of`) will automatically move those columns back into the index.\n",
    "\n",
    "`WellFrame` has some useful functions like `slice_ms` to slice the (time-dependent) feature vector by milliseconds in the battery."
   ]
  },
  {
   "cell_type": "markdown",
   "metadata": {},
   "source": [
    "#### Plotting traces\n",
    "\n",
    "Use `quick.traces` to plot traces.\n",
    "It is a generator over `(name, Figure)` pairs, where `name` is from the corresponding column in the WellFrame."
   ]
  },
  {
   "cell_type": "code",
   "execution_count": null,
   "metadata": {},
   "outputs": [],
   "source": [
    "quick.traces(df)"
   ]
  },
  {
   "cell_type": "markdown",
   "metadata": {},
   "source": [
    "You can also put in run IDs or expressions, but often you'll need to keep the WellFrame for something else too.\n",
    "\n",
    "You can iterate over the results and show each.\n",
    "There's a function for convenience called `plt.show_all` that does just that."
   ]
  },
  {
   "cell_type": "code",
   "execution_count": null,
   "metadata": {},
   "outputs": [],
   "source": [
    "plt.show_all(quick.traces(df))"
   ]
  },
  {
   "cell_type": "markdown",
   "metadata": {},
   "source": [
    "You can loop over and save each. But for convenience, use `Figures.save(quick.traces(df), \"mydir\")`."
   ]
  },
  {
   "cell_type": "markdown",
   "metadata": {},
   "source": [
    "#### Namers\n",
    "\n",
    "The `name` column is computed after downloading the data using `quick.well_namer`.\n",
    "You can set it in the Quick constructor.\n",
    "\n",
    "Each `WellNamer` is a function that maps the metadata columns to names.\n",
    "You can build them using `WellNamer.builder`:"
   ]
  },
  {
   "cell_type": "code",
   "execution_count": 14,
   "metadata": {},
   "outputs": [
    {
     "data": {
      "text/plain": [
       "Namer( ⟦ ⟨`<class 'chemfish.core.tools.Tools'>`.truncate40(2)⟩control_type ¦ ‘ and ’ ¦ display(${name} [${id}]) 〛 @ 0x219d3ef6970)"
      ]
     },
     "execution_count": 14,
     "metadata": {},
     "output_type": "execute_result"
    }
   ],
   "source": [
    "WellNamers.builder().column(\"control_type\").text(\" and \").treatments().build()"
   ]
  },
  {
   "cell_type": "markdown",
   "metadata": {},
   "source": [
    "These can choose whether to include a column in the name depending on whether there are multiple values,\n",
    "and on the values of other columns.\n",
    "\n",
    "But the predefined ones are probably sufficient."
   ]
  },
  {
   "cell_type": "code",
   "execution_count": 15,
   "metadata": {},
   "outputs": [
    {
     "data": {
      "text/plain": [
       "Namer( ⟦ ⟨`<class 'chemfish.core.tools.Tools'>`.truncate40(2)⟩control_type‘ ’ ¦ ⟨∄control_type⟩⟨`<class 'chemfish.core.tools.Tools'>`.truncate40(2)⟩variant_name‘ ’ ¦ ⟨`<class 'chemfish.core.tools.Tools'>`.truncate40(2)⟩age‘dpf ’ ¦ ⟨`<class 'chemfish.core.tools.Tools'>`.truncate40(2)⟩‘n=’n_fish‘ ’ ¦ ⟨`<class 'chemfish.core.tools.Tools'>`.truncate40(2)⟩‘{’well_group‘} ’/‘-’ ¦ ⟨∄control_type⟩display(${name} [${id}] (${dose})) 〛 @ 0x219d4c1ea60)"
      ]
     },
     "execution_count": 15,
     "metadata": {},
     "output_type": "execute_result"
    }
   ],
   "source": [
    "WellNamers.elegant()"
   ]
  },
  {
   "cell_type": "markdown",
   "metadata": {},
   "source": [
    "There are other kinds of namers, most notably `TreatmentNamer` and `CompoundNamer`.\n",
    "\n",
    "A Treatment namer defines how to display a single treatment (a single drug at a single dose).\n",
    "These use simple string patterns:\n"
   ]
  },
  {
   "cell_type": "code",
   "execution_count": 19,
   "metadata": {},
   "outputs": [
    {
     "name": "stdout",
     "output_type": "stream",
     "text": [
      "display(${id} @ ${dose})\n",
      "display(${id|name} @ ${um.3})\n"
     ]
    }
   ],
   "source": [
    "# the compound ID and a free-form dose with sensible units\n",
    "print(TreatmentNamers.of(\"${id} @ ${dose}\"))\n",
    "# a name if found, otherwise ID; the micromolar dose with 3 decimal places\n",
    "print(TreatmentNamers.of(\"${id|name} @ ${um.3}\"))"
   ]
  },
  {
   "cell_type": "markdown",
   "metadata": {},
   "source": [
    "There's a long list of parameters. See `?StringTreatmentNamer` for more info.\n",
    "\n",
    "The second example refers to a \"name\".\n",
    "`CompoundNamer` comes in here.\n",
    "\n",
    "The problem is that a compound can have multiple names.\n",
    "(Multiple compounds can also share the same name, especially for enantiomers.)\n",
    "It's not obvious computationally how to choose a good name from the database.\n",
    "\n",
    "To do that, a `TieredCompoundNamer` prioritizes names by their references.\n",
    "This list is controlled through a config file.\n",
    "In our file, DrugBank \"secondary IDs\" come first -- these are typically generic drug names.  \n",
    "Most compounds don't have such convenient names.\n",
    "Eventually, the namer will just give up and use the compound ID rather than something weird like a 80-character IUPAC name.\n",
    "\n",
    "You can use `CompoundNamers` to get or create a different method, though the default should be good for most cases."
   ]
  },
  {
   "cell_type": "code",
   "execution_count": 21,
   "metadata": {},
   "outputs": [
    {
     "name": "stdout",
     "output_type": "stream",
     "text": [
      "Quick(cd(10)[⌇] @ 2020-09-09 19:54)\n"
     ]
    }
   ],
   "source": [
    "quick = quick.using(well_namer=WellNamers.well(), compound_namer=CompoundNamers.chembl())\n",
    "print(quick)"
   ]
  },
  {
   "cell_type": "markdown",
   "metadata": {},
   "source": [
    "### Other kinds of plots\n",
    "\n",
    "Quick has well-by-well heatmaps: `quick.rheat` for raw and `quick.zheat` for control-subtraced (\"z-score\") blue-to-white-to-red heatmaps.\n",
    "\n",
    "There's also `quick.smears` and `quick.zmears`.\n",
    "\n",
    "Finally, see `quick.sensor_plots`, `quick.stimframes_plot`, `quick.durations`, and `quick.timeline`."
   ]
  },
  {
   "cell_type": "markdown",
   "metadata": {},
   "source": [
    "### Batteries\n",
    "\n",
    "Let's:\n",
    "- See what assays a battery has\n",
    "- Get the full series of stimuli for the battery\n",
    "- See precise descriptions of the assays\n",
    "- See the original definition"
   ]
  },
  {
   "cell_type": "code",
   "execution_count": null,
   "metadata": {},
   "outputs": [],
   "source": [
    "# Pretty obvious -- just get some basic info\n",
    "Lookups.batteries(\"standard :: flames\")"
   ]
  },
  {
   "cell_type": "code",
   "execution_count": null,
   "metadata": {},
   "outputs": [],
   "source": [
    "# Get a pretty list of the assays\n",
    "Lookups.assays(\"standard :: flames\")"
   ]
  },
  {
   "cell_type": "code",
   "execution_count": null,
   "metadata": {},
   "outputs": [],
   "source": [
    "# Get a long dataframe of stimuli, with one row per millisecond\n",
    "stimdf = quick.stim(\"standard :: flames\")\n",
    "\n",
    "# Plot the battery\n",
    "quick.stim_plot(\"standard :: flames\")"
   ]
  },
  {
   "cell_type": "markdown",
   "metadata": {},
   "source": [
    "##### How the stimulus values are defined\n",
    "\n",
    "This is advanced and skippable.  \n",
    "Exactly what the values in `stimdf` mean depends on the stimulus:\n",
    "- For LED stimuli, the value is the pulse-width modulation (PWM) from 0-255, which determines the brightness  \n",
    "- For push-pull solenoid stimuli, the value reflects the power sent to the motors, also in PWM (0-255).  \n",
    "  Values become nonzero when the motor turns on, but it takes time for the solenoid to contact the stage.  \n",
    "  This might be a 5 ms delay if PWM=255, but 50 for PWM=100. For low PWM, the solenoid might never reach the stage  \n",
    "  because it can't beat the spring's tension when it's far enough down. So, the solenoid's PWM, distance from the  \n",
    "  stage, type, and age all affect this. (They're pretty bad stimuli.)\n",
    "- For speaker/transducer stimuli, the value reflects the volume (0-255).  \n",
    "  This, of course, is independent of the volume settings in the OS and the hardware setup.  \n",
    "  There are two possible 'modes': If it's nonzero only for 1 ms (value), the full-length audio file is played once.  \n",
    "  If it's nonzero for > 1 ms, the audio is duplicated and truncated as needed to make it play for that length."
   ]
  },
  {
   "cell_type": "markdown",
   "metadata": {},
   "source": [
    "##### \"Insight\"\n",
    "\n",
    "How to know what's in a battery, other than just the plot"
   ]
  },
  {
   "cell_type": "code",
   "execution_count": null,
   "metadata": {},
   "outputs": [],
   "source": [
    "# Get an \"app frame\" (application-of-stimuli dataframe):\n",
    "frames = quick.app(\"standard :: flames\")\n",
    "frames"
   ]
  },
  {
   "cell_type": "code",
   "execution_count": null,
   "metadata": {},
   "outputs": [],
   "source": [
    "# Now, get something\n",
    "redleds = frames.by_stimulus(\"red LED\")\n",
    "redleds"
   ]
  },
  {
   "cell_type": "code",
   "execution_count": null,
   "metadata": {},
   "outputs": [],
   "source": [
    "# See what's in it\n",
    "redleds.insight()"
   ]
  },
  {
   "cell_type": "markdown",
   "metadata": {},
   "source": [
    "##### Template assays\n",
    "\n",
    "You can also see what the original definition was for an assay.  \n",
    "(This might not be defined for legacy assays.)\n"
   ]
  },
  {
   "cell_type": "code",
   "execution_count": null,
   "metadata": {},
   "outputs": [],
   "source": [
    "pd.DataFrame([\n",
    "    pd.Series(row.get_data())\n",
    "    for row in TemplateStimulusFrames\n",
    "    .select(TemplateStimulusFrames, TemplateAssays, Assays)\n",
    "    .join(TemplateAssays).join(Assays)\n",
    "    .where(Assays.name == \"xxxxx\")\n",
    "])"
   ]
  },
  {
   "cell_type": "markdown",
   "metadata": {},
   "source": [
    "### Layouts"
   ]
  },
  {
   "cell_type": "markdown",
   "metadata": {},
   "source": [
    "### t-SNE / PCA / UMAP / filtering"
   ]
  },
  {
   "cell_type": "markdown",
   "metadata": {},
   "source": [
    "##### Quick-and-dirty way"
   ]
  },
  {
   "cell_type": "code",
   "execution_count": null,
   "metadata": {},
   "outputs": [],
   "source": [
    "transformed, figure = quick.transform(df, transform=WellTransforms.tsne(), path_stub=\"my_tsne\")\n",
    "# Outputs a plot, etc."
   ]
  },
  {
   "cell_type": "markdown",
   "metadata": {},
   "source": [
    "### Classification"
   ]
  },
  {
   "cell_type": "markdown",
   "metadata": {},
   "source": [
    "##### Quick and dirty way\n",
    "\n",
    "This will train a multiclass model to predict the labels.\n",
    "It will then save the model and figures."
   ]
  },
  {
   "cell_type": "code",
   "execution_count": null,
   "metadata": {},
   "outputs": [],
   "source": [
    "\n",
    "quick.classify(df, \"my_output_dir\")\n",
    "\n",
    "# If you want to change hyperparameters:\n",
    "#quick.classify(df, \"my_output_dir\", model_fn=WellClassifiers.forest(n_estimators=800))"
   ]
  },
  {
   "cell_type": "markdown",
   "metadata": {},
   "source": [
    "##### A la carte way"
   ]
  },
  {
   "cell_type": "code",
   "execution_count": null,
   "metadata": {},
   "outputs": [],
   "source": [
    "# Make a type of classifier based on a random forest\n",
    "# We're really just setting hyperparameters here\n",
    "my_forest = WellClassifiers.forest(n_estimators=1000, n_jobs=2)\n",
    "\n",
    "# Make a new forest of that type\n",
    "forest = my_forest.build()\n",
    "\n",
    "# Train it\n",
    "# This will give nice output and check things\n",
    "forest.train(df)\n",
    "\n",
    "# Save it and metadata in a file alongside it\n",
    "# The metadata includes hyperparameters and exactly which wells were used to train\n",
    "forest.save(\"a_classifier.h5\")\n"
   ]
  },
  {
   "cell_type": "code",
   "execution_count": null,
   "metadata": {},
   "outputs": [],
   "source": [
    "\n",
    "# Try testing on it\n",
    "# It warns that we're testing on wells we already trained with\n",
    "forest.test(df)\n"
   ]
  },
  {
   "cell_type": "code",
   "execution_count": null,
   "metadata": {},
   "outputs": [],
   "source": [
    "# Because it's a random forest, it has a training decision function\n",
    "# This reports reports back the out-of-bag predictions on the training data\n",
    "decision_function = forest.training_decision()\n",
    "decision_function"
   ]
  },
  {
   "cell_type": "code",
   "execution_count": null,
   "metadata": {},
   "outputs": [],
   "source": [
    "# We can summarize it in terms of accuracy\n",
    "acc = decision_function.accuracy()\n",
    "acc"
   ]
  },
  {
   "cell_type": "code",
   "execution_count": null,
   "metadata": {},
   "outputs": [],
   "source": [
    "# We can get a confusion matrix from that decision function\n",
    "confusion = decision_function.confusion()\n",
    "confusion"
   ]
  },
  {
   "cell_type": "code",
   "execution_count": null,
   "metadata": {},
   "outputs": [],
   "source": [
    "# Apply confusion matrix ordering (CMO) to sort the labels to maximize block-diagonals\n",
    "confusion = confusion.sort()\n",
    "confusion"
   ]
  },
  {
   "cell_type": "markdown",
   "metadata": {},
   "source": [
    "### Phenosearch\n",
    "\n",
    "Finding similar phenotypes\n",
    "\n"
   ]
  },
  {
   "cell_type": "markdown",
   "metadata": {},
   "source": [
    "##### The low-level way\n"
   ]
  },
  {
   "cell_type": "code",
   "execution_count": null,
   "metadata": {},
   "outputs": [],
   "source": [
    "# Get our query data\n",
    "source = quick.df(7112).with_all_compound(55).mean(numeric_only=True)\n",
    "\n",
    "# We DEFINITELY need to only include those with the same battery\n",
    "my_stats = {}\n",
    "for run in quick.query_runs(Projects.id==1, Batteries.name==\"standard :: flames\"):\n",
    "    for well in Wells.select().where(Wells.run==run):\n",
    "        target = WellFrameBuilder.well(well)\n",
    "        # Compute my statistic here:\n",
    "        my_stats[well.id] = calculate_statistic(source, target)"
   ]
  },
  {
   "cell_type": "markdown",
   "metadata": {},
   "source": [
    "##### The better way\n",
    "\n",
    "Use `HitSearch`"
   ]
  },
  {
   "cell_type": "code",
   "execution_count": null,
   "metadata": {},
   "outputs": [],
   "source": [
    "search = (\n",
    "    HitSearch()\n",
    "    .set_feature(FeatureTypes.cd_10_i)\n",
    "    .set_primary_score(lambda arr, well: -np.abs(arr - prototypical).mean())\n",
    "    .add_secondary_score(\"mean\", lambda arr, well: np.mean(arr))\n",
    "    .where(Experiments.id == 12)\n",
    "    .set_save_every(10)\n",
    ")\n",
    "hits = search.search(\"query_results.csv\")  # type: HitFrame"
   ]
  },
  {
   "cell_type": "markdown",
   "metadata": {},
   "source": [
    "### Advanced caching"
   ]
  },
  {
   "cell_type": "markdown",
   "metadata": {},
   "source": [
    "### Sensor data"
   ]
  },
  {
   "cell_type": "markdown",
   "metadata": {},
   "source": [
    "### \"Concerns\""
   ]
  },
  {
   "cell_type": "markdown",
   "metadata": {},
   "source": [
    "### Advanced WellFrames\n"
   ]
  },
  {
   "cell_type": "markdown",
   "metadata": {},
   "source": [
    "### Dose--response plots"
   ]
  },
  {
   "cell_type": "markdown",
   "metadata": {},
   "source": [
    "### chemfish_rc"
   ]
  },
  {
   "cell_type": "markdown",
   "metadata": {},
   "source": [
    "### Iterating case--control comparisons"
   ]
  },
  {
   "cell_type": "markdown",
   "metadata": {},
   "source": [
    "### Videos"
   ]
  },
  {
   "cell_type": "markdown",
   "metadata": {},
   "source": [
    "### Mandos"
   ]
  },
  {
   "cell_type": "markdown",
   "metadata": {},
   "source": [
    "### Auto-analysis"
   ]
  },
  {
   "cell_type": "code",
   "execution_count": null,
   "metadata": {},
   "outputs": [],
   "source": []
  }
 ],
 "metadata": {
  "kernelspec": {
   "display_name": "fish",
   "language": "python",
   "name": "fish"
  },
  "language_info": {
   "codemirror_mode": {
    "name": "ipython",
    "version": 3
   },
   "file_extension": ".py",
   "mimetype": "text/x-python",
   "name": "python",
   "nbconvert_exporter": "python",
   "pygments_lexer": "ipython3",
   "version": "3.8.5"
  }
 },
 "nbformat": 4,
 "nbformat_minor": 4
}
